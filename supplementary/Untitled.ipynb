{
 "cells": [
  {
   "cell_type": "code",
   "execution_count": 1,
   "id": "1d19c545",
   "metadata": {},
   "outputs": [
    {
     "name": "stdout",
     "output_type": "stream",
     "text": [
      "Cloning into 'geomstats'...\n",
      "remote: Enumerating objects: 43805, done.\u001b[K\n",
      "remote: Total 43805 (delta 0), reused 0 (delta 0), pack-reused 43805\u001b[K\n",
      "Receiving objects: 100% (43805/43805), 129.95 MiB | 31.02 MiB/s, done.\n",
      "Resolving deltas: 100% (33444/33444), done.\n"
     ]
    }
   ],
   "source": [
    "# clone it in the first time.\n",
    "!git clone -b functions_L2 https://github.com/kiranvad/geomstats.git"
   ]
  },
  {
   "cell_type": "markdown",
   "id": "17b5e214",
   "metadata": {},
   "source": [
    "Follow the process in your terminal:\n",
    "\n",
    "``cd geomstats``     \n",
    "``pip3 install .``"
   ]
  },
  {
   "cell_type": "code",
   "execution_count": 2,
   "id": "5518c218",
   "metadata": {},
   "outputs": [
    {
     "name": "stderr",
     "output_type": "stream",
     "text": [
      "INFO: Using numpy backend\n"
     ]
    },
    {
     "ename": "ModuleNotFoundError",
     "evalue": "No module named 'geomstats.geometry.functions'",
     "output_type": "error",
     "traceback": [
      "\u001b[0;31m---------------------------------------------------------------------------\u001b[0m",
      "\u001b[0;31mModuleNotFoundError\u001b[0m                       Traceback (most recent call last)",
      "Input \u001b[0;32mIn [2]\u001b[0m, in \u001b[0;36m<cell line: 11>\u001b[0;34m()\u001b[0m\n\u001b[1;32m      9\u001b[0m \u001b[38;5;28;01mfrom\u001b[39;00m \u001b[38;5;21;01mgeomstats\u001b[39;00m\u001b[38;5;21;01m.\u001b[39;00m\u001b[38;5;21;01mlearning\u001b[39;00m\u001b[38;5;21;01m.\u001b[39;00m\u001b[38;5;21;01mfrechet_mean\u001b[39;00m \u001b[38;5;28;01mimport\u001b[39;00m FrechetMean\n\u001b[1;32m     10\u001b[0m \u001b[38;5;28;01mfrom\u001b[39;00m \u001b[38;5;21;01mgeomstats\u001b[39;00m\u001b[38;5;21;01m.\u001b[39;00m\u001b[38;5;21;01mlearning\u001b[39;00m\u001b[38;5;21;01m.\u001b[39;00m\u001b[38;5;21;01mpca\u001b[39;00m \u001b[38;5;28;01mimport\u001b[39;00m TangentPCA\n\u001b[0;32m---> 11\u001b[0m \u001b[38;5;28;01mfrom\u001b[39;00m \u001b[38;5;21;01mgeomstats\u001b[39;00m\u001b[38;5;21;01m.\u001b[39;00m\u001b[38;5;21;01mgeometry\u001b[39;00m\u001b[38;5;21;01m.\u001b[39;00m\u001b[38;5;21;01mfunctions\u001b[39;00m \u001b[38;5;28;01mimport\u001b[39;00m HilbertSphere\n",
      "\u001b[0;31mModuleNotFoundError\u001b[0m: No module named 'geomstats.geometry.functions'"
     ]
    }
   ],
   "source": [
    "import numpy as np\n",
    "import pandas as pd\n",
    "import matplotlib.pyplot as plt\n",
    "\n",
    "import seaborn as sns\n",
    "from sklearn.preprocessing import StandardScaler\n",
    "\n",
    "import geomstats.backend as gs\n",
    "from geomstats.learning.frechet_mean import FrechetMean\n",
    "from geomstats.learning.pca import TangentPCA\n",
    "from geomstats.geometry.functions import HilbertSphere"
   ]
  },
  {
   "cell_type": "code",
   "execution_count": null,
   "id": "badf7e02",
   "metadata": {},
   "outputs": [],
   "source": []
  }
 ],
 "metadata": {
  "kernelspec": {
   "display_name": "Python 3 (ipykernel)",
   "language": "python",
   "name": "python3"
  },
  "language_info": {
   "codemirror_mode": {
    "name": "ipython",
    "version": 3
   },
   "file_extension": ".py",
   "mimetype": "text/x-python",
   "name": "python",
   "nbconvert_exporter": "python",
   "pygments_lexer": "ipython3",
   "version": "3.9.12"
  }
 },
 "nbformat": 4,
 "nbformat_minor": 5
}
