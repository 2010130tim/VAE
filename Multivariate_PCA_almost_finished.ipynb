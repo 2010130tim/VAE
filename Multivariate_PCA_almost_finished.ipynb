{
 "cells": [
  {
   "cell_type": "markdown",
   "metadata": {},
   "source": [
    "### Multivariate PCA"
   ]
  },
  {
   "cell_type": "markdown",
   "metadata": {},
   "source": [
    "Multivariate PCA is used to reduce the dimension of the dataset so that it can be feed into the machine learning model."
   ]
  },
  {
   "cell_type": "code",
   "execution_count": 1,
   "metadata": {},
   "outputs": [],
   "source": [
    "import numpy as np\n",
    "import pickle\n",
    "import pandas as pd\n",
    "import matplotlib.pyplot as plt\n",
    "import pdb\n",
    "from sklearn.decomposition import PCA\n",
    "from sklearn.preprocessing import StandardScaler\n",
    "from sklearn.preprocessing import OneHotEncoder"
   ]
  },
  {
   "cell_type": "code",
   "execution_count": 2,
   "metadata": {},
   "outputs": [
    {
     "data": {
      "text/html": [
       "<div>\n",
       "<style scoped>\n",
       "    .dataframe tbody tr th:only-of-type {\n",
       "        vertical-align: middle;\n",
       "    }\n",
       "\n",
       "    .dataframe tbody tr th {\n",
       "        vertical-align: top;\n",
       "    }\n",
       "\n",
       "    .dataframe thead th {\n",
       "        text-align: right;\n",
       "    }\n",
       "</style>\n",
       "<table border=\"1\" class=\"dataframe\">\n",
       "  <thead>\n",
       "    <tr style=\"text-align: right;\">\n",
       "      <th></th>\n",
       "      <th>Wavelength</th>\n",
       "      <th>A1</th>\n",
       "      <th>A2</th>\n",
       "      <th>A3</th>\n",
       "      <th>A4</th>\n",
       "      <th>A5</th>\n",
       "      <th>A6</th>\n",
       "      <th>A7</th>\n",
       "      <th>A8</th>\n",
       "      <th>A9</th>\n",
       "      <th>...</th>\n",
       "      <th>H3</th>\n",
       "      <th>H4</th>\n",
       "      <th>H5</th>\n",
       "      <th>H6</th>\n",
       "      <th>H7</th>\n",
       "      <th>H8</th>\n",
       "      <th>H9</th>\n",
       "      <th>H10</th>\n",
       "      <th>H11</th>\n",
       "      <th>H12</th>\n",
       "    </tr>\n",
       "  </thead>\n",
       "  <tbody>\n",
       "    <tr>\n",
       "      <th>0</th>\n",
       "      <td>400</td>\n",
       "      <td>0.054</td>\n",
       "      <td>0.323</td>\n",
       "      <td>0.043</td>\n",
       "      <td>0.541</td>\n",
       "      <td>0.372</td>\n",
       "      <td>0.836</td>\n",
       "      <td>0.402</td>\n",
       "      <td>0.402</td>\n",
       "      <td>0.267</td>\n",
       "      <td>...</td>\n",
       "      <td>0.424</td>\n",
       "      <td>0.442</td>\n",
       "      <td>0.460</td>\n",
       "      <td>0.404</td>\n",
       "      <td>0.555</td>\n",
       "      <td>0.512</td>\n",
       "      <td>0.524</td>\n",
       "      <td>0.401</td>\n",
       "      <td>0.445</td>\n",
       "      <td>0.510</td>\n",
       "    </tr>\n",
       "    <tr>\n",
       "      <th>1</th>\n",
       "      <td>405</td>\n",
       "      <td>0.053</td>\n",
       "      <td>0.319</td>\n",
       "      <td>0.043</td>\n",
       "      <td>0.535</td>\n",
       "      <td>0.368</td>\n",
       "      <td>0.795</td>\n",
       "      <td>0.397</td>\n",
       "      <td>0.398</td>\n",
       "      <td>0.264</td>\n",
       "      <td>...</td>\n",
       "      <td>0.420</td>\n",
       "      <td>0.437</td>\n",
       "      <td>0.456</td>\n",
       "      <td>0.400</td>\n",
       "      <td>0.549</td>\n",
       "      <td>0.506</td>\n",
       "      <td>0.518</td>\n",
       "      <td>0.397</td>\n",
       "      <td>0.440</td>\n",
       "      <td>0.504</td>\n",
       "    </tr>\n",
       "    <tr>\n",
       "      <th>2</th>\n",
       "      <td>410</td>\n",
       "      <td>0.053</td>\n",
       "      <td>0.316</td>\n",
       "      <td>0.043</td>\n",
       "      <td>0.530</td>\n",
       "      <td>0.365</td>\n",
       "      <td>0.740</td>\n",
       "      <td>0.394</td>\n",
       "      <td>0.394</td>\n",
       "      <td>0.262</td>\n",
       "      <td>...</td>\n",
       "      <td>0.415</td>\n",
       "      <td>0.433</td>\n",
       "      <td>0.451</td>\n",
       "      <td>0.396</td>\n",
       "      <td>0.543</td>\n",
       "      <td>0.501</td>\n",
       "      <td>0.513</td>\n",
       "      <td>0.393</td>\n",
       "      <td>0.436</td>\n",
       "      <td>0.499</td>\n",
       "    </tr>\n",
       "    <tr>\n",
       "      <th>3</th>\n",
       "      <td>415</td>\n",
       "      <td>0.052</td>\n",
       "      <td>0.313</td>\n",
       "      <td>0.042</td>\n",
       "      <td>0.526</td>\n",
       "      <td>0.361</td>\n",
       "      <td>0.674</td>\n",
       "      <td>0.391</td>\n",
       "      <td>0.390</td>\n",
       "      <td>0.259</td>\n",
       "      <td>...</td>\n",
       "      <td>0.412</td>\n",
       "      <td>0.429</td>\n",
       "      <td>0.447</td>\n",
       "      <td>0.393</td>\n",
       "      <td>0.538</td>\n",
       "      <td>0.496</td>\n",
       "      <td>0.508</td>\n",
       "      <td>0.390</td>\n",
       "      <td>0.432</td>\n",
       "      <td>0.494</td>\n",
       "    </tr>\n",
       "    <tr>\n",
       "      <th>4</th>\n",
       "      <td>420</td>\n",
       "      <td>0.052</td>\n",
       "      <td>0.310</td>\n",
       "      <td>0.042</td>\n",
       "      <td>0.522</td>\n",
       "      <td>0.358</td>\n",
       "      <td>0.606</td>\n",
       "      <td>0.388</td>\n",
       "      <td>0.387</td>\n",
       "      <td>0.257</td>\n",
       "      <td>...</td>\n",
       "      <td>0.409</td>\n",
       "      <td>0.426</td>\n",
       "      <td>0.444</td>\n",
       "      <td>0.390</td>\n",
       "      <td>0.534</td>\n",
       "      <td>0.492</td>\n",
       "      <td>0.504</td>\n",
       "      <td>0.387</td>\n",
       "      <td>0.428</td>\n",
       "      <td>0.489</td>\n",
       "    </tr>\n",
       "    <tr>\n",
       "      <th>...</th>\n",
       "      <td>...</td>\n",
       "      <td>...</td>\n",
       "      <td>...</td>\n",
       "      <td>...</td>\n",
       "      <td>...</td>\n",
       "      <td>...</td>\n",
       "      <td>...</td>\n",
       "      <td>...</td>\n",
       "      <td>...</td>\n",
       "      <td>...</td>\n",
       "      <td>...</td>\n",
       "      <td>...</td>\n",
       "      <td>...</td>\n",
       "      <td>...</td>\n",
       "      <td>...</td>\n",
       "      <td>...</td>\n",
       "      <td>...</td>\n",
       "      <td>...</td>\n",
       "      <td>...</td>\n",
       "      <td>...</td>\n",
       "      <td>...</td>\n",
       "    </tr>\n",
       "    <tr>\n",
       "      <th>96</th>\n",
       "      <td>880</td>\n",
       "      <td>0.066</td>\n",
       "      <td>0.105</td>\n",
       "      <td>0.055</td>\n",
       "      <td>0.093</td>\n",
       "      <td>0.098</td>\n",
       "      <td>0.056</td>\n",
       "      <td>0.080</td>\n",
       "      <td>0.135</td>\n",
       "      <td>0.063</td>\n",
       "      <td>...</td>\n",
       "      <td>0.165</td>\n",
       "      <td>0.107</td>\n",
       "      <td>0.157</td>\n",
       "      <td>0.097</td>\n",
       "      <td>0.201</td>\n",
       "      <td>0.260</td>\n",
       "      <td>0.249</td>\n",
       "      <td>0.156</td>\n",
       "      <td>0.191</td>\n",
       "      <td>0.303</td>\n",
       "    </tr>\n",
       "    <tr>\n",
       "      <th>97</th>\n",
       "      <td>885</td>\n",
       "      <td>0.070</td>\n",
       "      <td>0.104</td>\n",
       "      <td>0.056</td>\n",
       "      <td>0.092</td>\n",
       "      <td>0.096</td>\n",
       "      <td>0.057</td>\n",
       "      <td>0.079</td>\n",
       "      <td>0.131</td>\n",
       "      <td>0.064</td>\n",
       "      <td>...</td>\n",
       "      <td>0.159</td>\n",
       "      <td>0.105</td>\n",
       "      <td>0.150</td>\n",
       "      <td>0.096</td>\n",
       "      <td>0.192</td>\n",
       "      <td>0.246</td>\n",
       "      <td>0.240</td>\n",
       "      <td>0.151</td>\n",
       "      <td>0.184</td>\n",
       "      <td>0.288</td>\n",
       "    </tr>\n",
       "    <tr>\n",
       "      <th>98</th>\n",
       "      <td>890</td>\n",
       "      <td>0.068</td>\n",
       "      <td>0.100</td>\n",
       "      <td>0.056</td>\n",
       "      <td>0.090</td>\n",
       "      <td>0.094</td>\n",
       "      <td>0.057</td>\n",
       "      <td>0.078</td>\n",
       "      <td>0.126</td>\n",
       "      <td>0.064</td>\n",
       "      <td>...</td>\n",
       "      <td>0.151</td>\n",
       "      <td>0.102</td>\n",
       "      <td>0.144</td>\n",
       "      <td>0.093</td>\n",
       "      <td>0.179</td>\n",
       "      <td>0.227</td>\n",
       "      <td>0.222</td>\n",
       "      <td>0.143</td>\n",
       "      <td>0.173</td>\n",
       "      <td>0.264</td>\n",
       "    </tr>\n",
       "    <tr>\n",
       "      <th>99</th>\n",
       "      <td>895</td>\n",
       "      <td>0.069</td>\n",
       "      <td>0.098</td>\n",
       "      <td>0.057</td>\n",
       "      <td>0.089</td>\n",
       "      <td>0.092</td>\n",
       "      <td>0.058</td>\n",
       "      <td>0.078</td>\n",
       "      <td>0.122</td>\n",
       "      <td>0.064</td>\n",
       "      <td>...</td>\n",
       "      <td>0.146</td>\n",
       "      <td>0.100</td>\n",
       "      <td>0.138</td>\n",
       "      <td>0.092</td>\n",
       "      <td>0.169</td>\n",
       "      <td>0.213</td>\n",
       "      <td>0.208</td>\n",
       "      <td>0.138</td>\n",
       "      <td>0.165</td>\n",
       "      <td>0.245</td>\n",
       "    </tr>\n",
       "    <tr>\n",
       "      <th>100</th>\n",
       "      <td>900</td>\n",
       "      <td>0.070</td>\n",
       "      <td>0.097</td>\n",
       "      <td>0.058</td>\n",
       "      <td>0.089</td>\n",
       "      <td>0.091</td>\n",
       "      <td>0.059</td>\n",
       "      <td>0.078</td>\n",
       "      <td>0.119</td>\n",
       "      <td>0.065</td>\n",
       "      <td>...</td>\n",
       "      <td>0.141</td>\n",
       "      <td>0.098</td>\n",
       "      <td>0.134</td>\n",
       "      <td>0.091</td>\n",
       "      <td>0.161</td>\n",
       "      <td>0.201</td>\n",
       "      <td>0.197</td>\n",
       "      <td>0.134</td>\n",
       "      <td>0.158</td>\n",
       "      <td>0.229</td>\n",
       "    </tr>\n",
       "  </tbody>\n",
       "</table>\n",
       "<p>101 rows × 97 columns</p>\n",
       "</div>"
      ],
      "text/plain": [
       "     Wavelength     A1     A2     A3     A4     A5     A6     A7     A8  \\\n",
       "0           400  0.054  0.323  0.043  0.541  0.372  0.836  0.402  0.402   \n",
       "1           405  0.053  0.319  0.043  0.535  0.368  0.795  0.397  0.398   \n",
       "2           410  0.053  0.316  0.043  0.530  0.365  0.740  0.394  0.394   \n",
       "3           415  0.052  0.313  0.042  0.526  0.361  0.674  0.391  0.390   \n",
       "4           420  0.052  0.310  0.042  0.522  0.358  0.606  0.388  0.387   \n",
       "..          ...    ...    ...    ...    ...    ...    ...    ...    ...   \n",
       "96          880  0.066  0.105  0.055  0.093  0.098  0.056  0.080  0.135   \n",
       "97          885  0.070  0.104  0.056  0.092  0.096  0.057  0.079  0.131   \n",
       "98          890  0.068  0.100  0.056  0.090  0.094  0.057  0.078  0.126   \n",
       "99          895  0.069  0.098  0.057  0.089  0.092  0.058  0.078  0.122   \n",
       "100         900  0.070  0.097  0.058  0.089  0.091  0.059  0.078  0.119   \n",
       "\n",
       "        A9  ...     H3     H4     H5     H6     H7     H8     H9    H10  \\\n",
       "0    0.267  ...  0.424  0.442  0.460  0.404  0.555  0.512  0.524  0.401   \n",
       "1    0.264  ...  0.420  0.437  0.456  0.400  0.549  0.506  0.518  0.397   \n",
       "2    0.262  ...  0.415  0.433  0.451  0.396  0.543  0.501  0.513  0.393   \n",
       "3    0.259  ...  0.412  0.429  0.447  0.393  0.538  0.496  0.508  0.390   \n",
       "4    0.257  ...  0.409  0.426  0.444  0.390  0.534  0.492  0.504  0.387   \n",
       "..     ...  ...    ...    ...    ...    ...    ...    ...    ...    ...   \n",
       "96   0.063  ...  0.165  0.107  0.157  0.097  0.201  0.260  0.249  0.156   \n",
       "97   0.064  ...  0.159  0.105  0.150  0.096  0.192  0.246  0.240  0.151   \n",
       "98   0.064  ...  0.151  0.102  0.144  0.093  0.179  0.227  0.222  0.143   \n",
       "99   0.064  ...  0.146  0.100  0.138  0.092  0.169  0.213  0.208  0.138   \n",
       "100  0.065  ...  0.141  0.098  0.134  0.091  0.161  0.201  0.197  0.134   \n",
       "\n",
       "       H11    H12  \n",
       "0    0.445  0.510  \n",
       "1    0.440  0.504  \n",
       "2    0.436  0.499  \n",
       "3    0.432  0.494  \n",
       "4    0.428  0.489  \n",
       "..     ...    ...  \n",
       "96   0.191  0.303  \n",
       "97   0.184  0.288  \n",
       "98   0.173  0.264  \n",
       "99   0.165  0.245  \n",
       "100  0.158  0.229  \n",
       "\n",
       "[101 rows x 97 columns]"
      ]
     },
     "execution_count": 2,
     "metadata": {},
     "output_type": "execute_result"
    }
   ],
   "source": [
    "#import the dataset\n",
    "data = pd.read_excel(\"Itr_6.xlsx\")\n",
    "data"
   ]
  },
  {
   "cell_type": "code",
   "execution_count": 3,
   "metadata": {},
   "outputs": [
    {
     "data": {
      "text/plain": [
       "<matplotlib.collections.PathCollection at 0x7fb65c3c4280>"
      ]
     },
     "execution_count": 3,
     "metadata": {},
     "output_type": "execute_result"
    },
    {
     "data": {
      "image/png": "[encoded data removed]",
      "text/plain": [
       "<Figure size 432x288 with 1 Axes>"
      ]
     },
     "metadata": {
      "needs_background": "light"
     },
     "output_type": "display_data"
    }
   ],
   "source": [
    "#check the dataset\n",
    "b=data.iloc[:,1:2]\n",
    "a=data.iloc[:,0:1]\n",
    "plt.scatter(a,b)"
   ]
  },
  {
   "cell_type": "code",
   "execution_count": 4,
   "metadata": {},
   "outputs": [
    {
     "data": {
      "text/html": [
       "<div>\n",
       "<style scoped>\n",
       "    .dataframe tbody tr th:only-of-type {\n",
       "        vertical-align: middle;\n",
       "    }\n",
       "\n",
       "    .dataframe tbody tr th {\n",
       "        vertical-align: top;\n",
       "    }\n",
       "\n",
       "    .dataframe thead th {\n",
       "        text-align: right;\n",
       "    }\n",
       "</style>\n",
       "<table border=\"1\" class=\"dataframe\">\n",
       "  <thead>\n",
       "    <tr style=\"text-align: right;\">\n",
       "      <th></th>\n",
       "      <th>0</th>\n",
       "      <th>1</th>\n",
       "      <th>2</th>\n",
       "      <th>3</th>\n",
       "      <th>4</th>\n",
       "      <th>5</th>\n",
       "      <th>6</th>\n",
       "      <th>7</th>\n",
       "      <th>8</th>\n",
       "      <th>9</th>\n",
       "      <th>...</th>\n",
       "      <th>91</th>\n",
       "      <th>92</th>\n",
       "      <th>93</th>\n",
       "      <th>94</th>\n",
       "      <th>95</th>\n",
       "      <th>96</th>\n",
       "      <th>97</th>\n",
       "      <th>98</th>\n",
       "      <th>99</th>\n",
       "      <th>100</th>\n",
       "    </tr>\n",
       "  </thead>\n",
       "  <tbody>\n",
       "    <tr>\n",
       "      <th>A1</th>\n",
       "      <td>0.054</td>\n",
       "      <td>0.053</td>\n",
       "      <td>0.053</td>\n",
       "      <td>0.052</td>\n",
       "      <td>0.052</td>\n",
       "      <td>0.052</td>\n",
       "      <td>0.052</td>\n",
       "      <td>0.051</td>\n",
       "      <td>0.051</td>\n",
       "      <td>0.050</td>\n",
       "      <td>...</td>\n",
       "      <td>0.062</td>\n",
       "      <td>0.063</td>\n",
       "      <td>0.064</td>\n",
       "      <td>0.066</td>\n",
       "      <td>0.068</td>\n",
       "      <td>0.066</td>\n",
       "      <td>0.070</td>\n",
       "      <td>0.068</td>\n",
       "      <td>0.069</td>\n",
       "      <td>0.070</td>\n",
       "    </tr>\n",
       "    <tr>\n",
       "      <th>A2</th>\n",
       "      <td>0.323</td>\n",
       "      <td>0.319</td>\n",
       "      <td>0.316</td>\n",
       "      <td>0.313</td>\n",
       "      <td>0.310</td>\n",
       "      <td>0.309</td>\n",
       "      <td>0.307</td>\n",
       "      <td>0.305</td>\n",
       "      <td>0.304</td>\n",
       "      <td>0.302</td>\n",
       "      <td>...</td>\n",
       "      <td>0.126</td>\n",
       "      <td>0.121</td>\n",
       "      <td>0.116</td>\n",
       "      <td>0.113</td>\n",
       "      <td>0.110</td>\n",
       "      <td>0.105</td>\n",
       "      <td>0.104</td>\n",
       "      <td>0.100</td>\n",
       "      <td>0.098</td>\n",
       "      <td>0.097</td>\n",
       "    </tr>\n",
       "    <tr>\n",
       "      <th>A3</th>\n",
       "      <td>0.043</td>\n",
       "      <td>0.043</td>\n",
       "      <td>0.043</td>\n",
       "      <td>0.042</td>\n",
       "      <td>0.042</td>\n",
       "      <td>0.042</td>\n",
       "      <td>0.041</td>\n",
       "      <td>0.041</td>\n",
       "      <td>0.041</td>\n",
       "      <td>0.040</td>\n",
       "      <td>...</td>\n",
       "      <td>0.050</td>\n",
       "      <td>0.051</td>\n",
       "      <td>0.052</td>\n",
       "      <td>0.054</td>\n",
       "      <td>0.056</td>\n",
       "      <td>0.055</td>\n",
       "      <td>0.056</td>\n",
       "      <td>0.056</td>\n",
       "      <td>0.057</td>\n",
       "      <td>0.058</td>\n",
       "    </tr>\n",
       "    <tr>\n",
       "      <th>A4</th>\n",
       "      <td>0.541</td>\n",
       "      <td>0.535</td>\n",
       "      <td>0.530</td>\n",
       "      <td>0.526</td>\n",
       "      <td>0.522</td>\n",
       "      <td>0.519</td>\n",
       "      <td>0.517</td>\n",
       "      <td>0.514</td>\n",
       "      <td>0.512</td>\n",
       "      <td>0.511</td>\n",
       "      <td>...</td>\n",
       "      <td>0.101</td>\n",
       "      <td>0.099</td>\n",
       "      <td>0.097</td>\n",
       "      <td>0.096</td>\n",
       "      <td>0.096</td>\n",
       "      <td>0.093</td>\n",
       "      <td>0.092</td>\n",
       "      <td>0.090</td>\n",
       "      <td>0.089</td>\n",
       "      <td>0.089</td>\n",
       "    </tr>\n",
       "    <tr>\n",
       "      <th>A5</th>\n",
       "      <td>0.372</td>\n",
       "      <td>0.368</td>\n",
       "      <td>0.365</td>\n",
       "      <td>0.361</td>\n",
       "      <td>0.358</td>\n",
       "      <td>0.356</td>\n",
       "      <td>0.353</td>\n",
       "      <td>0.350</td>\n",
       "      <td>0.348</td>\n",
       "      <td>0.346</td>\n",
       "      <td>...</td>\n",
       "      <td>0.113</td>\n",
       "      <td>0.109</td>\n",
       "      <td>0.106</td>\n",
       "      <td>0.104</td>\n",
       "      <td>0.102</td>\n",
       "      <td>0.098</td>\n",
       "      <td>0.096</td>\n",
       "      <td>0.094</td>\n",
       "      <td>0.092</td>\n",
       "      <td>0.091</td>\n",
       "    </tr>\n",
       "    <tr>\n",
       "      <th>...</th>\n",
       "      <td>...</td>\n",
       "      <td>...</td>\n",
       "      <td>...</td>\n",
       "      <td>...</td>\n",
       "      <td>...</td>\n",
       "      <td>...</td>\n",
       "      <td>...</td>\n",
       "      <td>...</td>\n",
       "      <td>...</td>\n",
       "      <td>...</td>\n",
       "      <td>...</td>\n",
       "      <td>...</td>\n",
       "      <td>...</td>\n",
       "      <td>...</td>\n",
       "      <td>...</td>\n",
       "      <td>...</td>\n",
       "      <td>...</td>\n",
       "      <td>...</td>\n",
       "      <td>...</td>\n",
       "      <td>...</td>\n",
       "      <td>...</td>\n",
       "    </tr>\n",
       "    <tr>\n",
       "      <th>H8</th>\n",
       "      <td>0.512</td>\n",
       "      <td>0.506</td>\n",
       "      <td>0.501</td>\n",
       "      <td>0.496</td>\n",
       "      <td>0.492</td>\n",
       "      <td>0.489</td>\n",
       "      <td>0.485</td>\n",
       "      <td>0.482</td>\n",
       "      <td>0.480</td>\n",
       "      <td>0.478</td>\n",
       "      <td>...</td>\n",
       "      <td>0.379</td>\n",
       "      <td>0.351</td>\n",
       "      <td>0.325</td>\n",
       "      <td>0.302</td>\n",
       "      <td>0.282</td>\n",
       "      <td>0.260</td>\n",
       "      <td>0.246</td>\n",
       "      <td>0.227</td>\n",
       "      <td>0.213</td>\n",
       "      <td>0.201</td>\n",
       "    </tr>\n",
       "    <tr>\n",
       "      <th>H9</th>\n",
       "      <td>0.524</td>\n",
       "      <td>0.518</td>\n",
       "      <td>0.513</td>\n",
       "      <td>0.508</td>\n",
       "      <td>0.504</td>\n",
       "      <td>0.500</td>\n",
       "      <td>0.497</td>\n",
       "      <td>0.494</td>\n",
       "      <td>0.492</td>\n",
       "      <td>0.490</td>\n",
       "      <td>...</td>\n",
       "      <td>0.359</td>\n",
       "      <td>0.334</td>\n",
       "      <td>0.310</td>\n",
       "      <td>0.290</td>\n",
       "      <td>0.271</td>\n",
       "      <td>0.249</td>\n",
       "      <td>0.240</td>\n",
       "      <td>0.222</td>\n",
       "      <td>0.208</td>\n",
       "      <td>0.197</td>\n",
       "    </tr>\n",
       "    <tr>\n",
       "      <th>H10</th>\n",
       "      <td>0.401</td>\n",
       "      <td>0.397</td>\n",
       "      <td>0.393</td>\n",
       "      <td>0.390</td>\n",
       "      <td>0.387</td>\n",
       "      <td>0.385</td>\n",
       "      <td>0.383</td>\n",
       "      <td>0.381</td>\n",
       "      <td>0.380</td>\n",
       "      <td>0.378</td>\n",
       "      <td>...</td>\n",
       "      <td>0.199</td>\n",
       "      <td>0.189</td>\n",
       "      <td>0.180</td>\n",
       "      <td>0.172</td>\n",
       "      <td>0.165</td>\n",
       "      <td>0.156</td>\n",
       "      <td>0.151</td>\n",
       "      <td>0.143</td>\n",
       "      <td>0.138</td>\n",
       "      <td>0.134</td>\n",
       "    </tr>\n",
       "    <tr>\n",
       "      <th>H11</th>\n",
       "      <td>0.445</td>\n",
       "      <td>0.440</td>\n",
       "      <td>0.436</td>\n",
       "      <td>0.432</td>\n",
       "      <td>0.428</td>\n",
       "      <td>0.425</td>\n",
       "      <td>0.423</td>\n",
       "      <td>0.421</td>\n",
       "      <td>0.419</td>\n",
       "      <td>0.417</td>\n",
       "      <td>...</td>\n",
       "      <td>0.258</td>\n",
       "      <td>0.242</td>\n",
       "      <td>0.228</td>\n",
       "      <td>0.216</td>\n",
       "      <td>0.205</td>\n",
       "      <td>0.191</td>\n",
       "      <td>0.184</td>\n",
       "      <td>0.173</td>\n",
       "      <td>0.165</td>\n",
       "      <td>0.158</td>\n",
       "    </tr>\n",
       "    <tr>\n",
       "      <th>H12</th>\n",
       "      <td>0.510</td>\n",
       "      <td>0.504</td>\n",
       "      <td>0.499</td>\n",
       "      <td>0.494</td>\n",
       "      <td>0.489</td>\n",
       "      <td>0.486</td>\n",
       "      <td>0.483</td>\n",
       "      <td>0.480</td>\n",
       "      <td>0.477</td>\n",
       "      <td>0.474</td>\n",
       "      <td>...</td>\n",
       "      <td>0.450</td>\n",
       "      <td>0.417</td>\n",
       "      <td>0.385</td>\n",
       "      <td>0.357</td>\n",
       "      <td>0.332</td>\n",
       "      <td>0.303</td>\n",
       "      <td>0.288</td>\n",
       "      <td>0.264</td>\n",
       "      <td>0.245</td>\n",
       "      <td>0.229</td>\n",
       "    </tr>\n",
       "  </tbody>\n",
       "</table>\n",
       "<p>96 rows × 101 columns</p>\n",
       "</div>"
      ],
      "text/plain": [
       "       0      1      2      3      4      5      6      7      8      9    \\\n",
       "A1   0.054  0.053  0.053  0.052  0.052  0.052  0.052  0.051  0.051  0.050   \n",
       "A2   0.323  0.319  0.316  0.313  0.310  0.309  0.307  0.305  0.304  0.302   \n",
       "A3   0.043  0.043  0.043  0.042  0.042  0.042  0.041  0.041  0.041  0.040   \n",
       "A4   0.541  0.535  0.530  0.526  0.522  0.519  0.517  0.514  0.512  0.511   \n",
       "A5   0.372  0.368  0.365  0.361  0.358  0.356  0.353  0.350  0.348  0.346   \n",
       "..     ...    ...    ...    ...    ...    ...    ...    ...    ...    ...   \n",
       "H8   0.512  0.506  0.501  0.496  0.492  0.489  0.485  0.482  0.480  0.478   \n",
       "H9   0.524  0.518  0.513  0.508  0.504  0.500  0.497  0.494  0.492  0.490   \n",
       "H10  0.401  0.397  0.393  0.390  0.387  0.385  0.383  0.381  0.380  0.378   \n",
       "H11  0.445  0.440  0.436  0.432  0.428  0.425  0.423  0.421  0.419  0.417   \n",
       "H12  0.510  0.504  0.499  0.494  0.489  0.486  0.483  0.480  0.477  0.474   \n",
       "\n",
       "     ...    91     92     93     94     95     96     97     98     99     100  \n",
       "A1   ...  0.062  0.063  0.064  0.066  0.068  0.066  0.070  0.068  0.069  0.070  \n",
       "A2   ...  0.126  0.121  0.116  0.113  0.110  0.105  0.104  0.100  0.098  0.097  \n",
       "A3   ...  0.050  0.051  0.052  0.054  0.056  0.055  0.056  0.056  0.057  0.058  \n",
       "A4   ...  0.101  0.099  0.097  0.096  0.096  0.093  0.092  0.090  0.089  0.089  \n",
       "A5   ...  0.113  0.109  0.106  0.104  0.102  0.098  0.096  0.094  0.092  0.091  \n",
       "..   ...    ...    ...    ...    ...    ...    ...    ...    ...    ...    ...  \n",
       "H8   ...  0.379  0.351  0.325  0.302  0.282  0.260  0.246  0.227  0.213  0.201  \n",
       "H9   ...  0.359  0.334  0.310  0.290  0.271  0.249  0.240  0.222  0.208  0.197  \n",
       "H10  ...  0.199  0.189  0.180  0.172  0.165  0.156  0.151  0.143  0.138  0.134  \n",
       "H11  ...  0.258  0.242  0.228  0.216  0.205  0.191  0.184  0.173  0.165  0.158  \n",
       "H12  ...  0.450  0.417  0.385  0.357  0.332  0.303  0.288  0.264  0.245  0.229  \n",
       "\n",
       "[96 rows x 101 columns]"
      ]
     },
     "execution_count": 4,
     "metadata": {},
     "output_type": "execute_result"
    }
   ],
   "source": [
    "Y = data.iloc[:,1:97]\n",
    "Data = Y.T\n",
    "Data"
   ]
  },
  {
   "cell_type": "code",
   "execution_count": 5,
   "metadata": {},
   "outputs": [
    {
     "data": {
      "text/plain": [
       "(96, 101)"
      ]
     },
     "execution_count": 5,
     "metadata": {},
     "output_type": "execute_result"
    }
   ],
   "source": [
    "#Standardization\n",
    "scaler = StandardScaler()\n",
    "scaler.fit(Data)\n",
    "scaled_Data = scaler.transform(Data)\n",
    "scaled_Data.shape"
   ]
  },
  {
   "cell_type": "code",
   "execution_count": 6,
   "metadata": {},
   "outputs": [
    {
     "name": "stdout",
     "output_type": "stream",
     "text": [
      "(96, 4)\n"
     ]
    }
   ],
   "source": [
    "# PCA with Component = 4\n",
    "pca = PCA(n_components=4)\n",
    "pca.fit(scaled_Data)\n",
    "PC =pca.transform(scaled_Data)\n",
    "print(PC.shape)"
   ]
  },
  {
   "cell_type": "code",
   "execution_count": 7,
   "metadata": {},
   "outputs": [
    {
     "name": "stdout",
     "output_type": "stream",
     "text": [
      "(101,)\n"
     ]
    }
   ],
   "source": [
    "#check PC1\n",
    "PC1 = pca.inverse_transform(PC[0,:])\n",
    "print(PC1.shape)"
   ]
  },
  {
   "cell_type": "code",
   "execution_count": 8,
   "metadata": {},
   "outputs": [
    {
     "data": {
      "text/plain": [
       "[<matplotlib.lines.Line2D at 0x7fb65c543be0>]"
      ]
     },
     "execution_count": 8,
     "metadata": {},
     "output_type": "execute_result"
    },
    {
     "data": {
      "image/png": "[encoded data removed]",
      "text/plain": [
       "<Figure size 432x288 with 1 Axes>"
      ]
     },
     "metadata": {
      "needs_background": "light"
     },
     "output_type": "display_data"
    }
   ],
   "source": [
    "#plot mean value\n",
    "plt.plot(data.iloc[:,0],Data.values.mean(axis=0))"
   ]
  },
  {
   "cell_type": "code",
   "execution_count": 9,
   "metadata": {},
   "outputs": [
    {
     "data": {
      "image/png": "[encoded data removed]",
      "text/plain": [
       "<Figure size 432x288 with 1 Axes>"
      ]
     },
     "metadata": {
      "needs_background": "light"
     },
     "output_type": "display_data"
    }
   ],
   "source": [
    "#PC1\n",
    "x = data.iloc[:,0]\n",
    "y1 = Data.values.mean(axis=0) + pca.inverse_transform(np.array([-1,0,0,0]) * PC[0,:])\n",
    "y2 = Data.values.mean(axis=0)\n",
    "y3 = Data.values.mean(axis=0) + pca.inverse_transform(np.array([1,0,0,0]) * PC[0,:])\n",
    "\n",
    "plt.plot(x, y1, color='tab:red', lw=2.0) # mean - std \n",
    "plt.plot(x, y2, color='k', ls='--', lw=2.0) # mean\n",
    "plt.plot(x, y3, color='tab:blue', lw=2.0) # mean + std\n",
    "plt.show()"
   ]
  },
  {
   "cell_type": "markdown",
   "metadata": {},
   "source": [
    "Princile component 1 associate with the peak hight."
   ]
  },
  {
   "cell_type": "code",
   "execution_count": 10,
   "metadata": {},
   "outputs": [
    {
     "data": {
      "image/png": "[encoded data removed]",
      "text/plain": [
       "<Figure size 432x288 with 1 Axes>"
      ]
     },
     "metadata": {
      "needs_background": "light"
     },
     "output_type": "display_data"
    }
   ],
   "source": [
    "#PC2\n",
    "x = data.iloc[:,0]\n",
    "y1 = Data.values.mean(axis=0) + pca.inverse_transform(np.array([0,-1,0,0]) * PC[1,:])\n",
    "y2 = Data.values.mean(axis=0)\n",
    "y3 = Data.values.mean(axis=0) + pca.inverse_transform(np.array([0,1,0,0]) * PC[1,:])\n",
    "\n",
    "plt.plot(x, y1, color='tab:red', lw=2.0) # mean - std \n",
    "plt.plot(x, y2, color='k', ls='--', lw=2.0) # mean\n",
    "plt.plot(x, y3, color='tab:blue', lw=2.0) # mean + std\n",
    "plt.show()"
   ]
  },
  {
   "cell_type": "markdown",
   "metadata": {},
   "source": [
    "Principle component 2 is associated with the second peak's position and all the two peak's hight"
   ]
  },
  {
   "cell_type": "code",
   "execution_count": 11,
   "metadata": {},
   "outputs": [
    {
     "data": {
      "image/png": "[encoded data removed]",
      "text/plain": [
       "<Figure size 432x288 with 1 Axes>"
      ]
     },
     "metadata": {
      "needs_background": "light"
     },
     "output_type": "display_data"
    }
   ],
   "source": [
    "#PC3\n",
    "x = data.iloc[:,0]\n",
    "y1 = Data.values.mean(axis=0) + pca.inverse_transform(np.array([0,0,-1,0]) * PC[2,:])\n",
    "y2 = Data.values.mean(axis=0)\n",
    "y3 = Data.values.mean(axis=0) + pca.inverse_transform(np.array([0,0,1,0]) * PC[2,:])\n",
    "\n",
    "plt.plot(x, y1, color='tab:red', lw=2.0) # mean - std \n",
    "plt.plot(x, y2, color='k', ls='--', lw=2.0) # mean\n",
    "plt.plot(x, y3, color='tab:blue', lw=2.0) # mean + std\n",
    "plt.show()"
   ]
  },
  {
   "cell_type": "markdown",
   "metadata": {},
   "source": [
    "PC3 is associated with the second peak's position and hight, I don't know of we can say the first paek has the same hight for all three curves."
   ]
  },
  {
   "cell_type": "code",
   "execution_count": 12,
   "metadata": {},
   "outputs": [
    {
     "data": {
      "image/png": "[encoded data removed]",
      "text/plain": [
       "<Figure size 432x288 with 1 Axes>"
      ]
     },
     "metadata": {
      "needs_background": "light"
     },
     "output_type": "display_data"
    }
   ],
   "source": [
    "#PC4\n",
    "x = data.iloc[:,0]\n",
    "y1 = Data.values.mean(axis=0) + pca.inverse_transform(np.array([0,0,0,-1]) * PC[3,:])\n",
    "y2 = Data.values.mean(axis=0)\n",
    "y3 = Data.values.mean(axis=0) + pca.inverse_transform(np.array([0,0,0,1]) * PC[3,:])\n",
    "\n",
    "plt.plot(x, y1, color='tab:red', lw=2.0) # mean - std \n",
    "plt.plot(x, y2, color='k', ls='--', lw=2.0) # mean\n",
    "plt.plot(x, y3, color='tab:blue', lw=2.0) # mean + std\n",
    "plt.show()"
   ]
  },
  {
   "cell_type": "markdown",
   "metadata": {},
   "source": [
    "PC4 is associated with peak's number and position and hight."
   ]
  },
  {
   "cell_type": "markdown",
   "metadata": {},
   "source": [
    "# Summary\n",
    "\n",
    "Moving one standard deviation away from the mean(dotted black curve) along PC1 direction changes peaks hight. with the second peak's position and all the two peak's hight. PC3 is associated with the second peak's position and hight, I don't know of we can say the first paek has the same hight for all three curves.PC4 is associated with peak's number and position and hight."
   ]
  },
  {
   "cell_type": "code",
   "execution_count": 13,
   "metadata": {},
   "outputs": [
    {
     "data": {
      "text/plain": [
       "133.77185699999998"
      ]
     },
     "execution_count": 13,
     "metadata": {},
     "output_type": "execute_result"
    }
   ],
   "source": [
    "205.802857-72.031"
   ]
  },
  {
   "cell_type": "code",
   "execution_count": 14,
   "metadata": {},
   "outputs": [
    {
     "data": {
      "text/plain": [
       "465.56412"
      ]
     },
     "execution_count": 14,
     "metadata": {},
     "output_type": "execute_result"
    }
   ],
   "source": [
    "631.7624-16.21314-133.772-16.21314"
   ]
  },
  {
   "cell_type": "code",
   "execution_count": 15,
   "metadata": {},
   "outputs": [
    {
     "data": {
      "text/plain": [
       "0.17750244671145823"
      ]
     },
     "execution_count": 15,
     "metadata": {},
     "output_type": "execute_result"
    }
   ],
   "source": [
    "72.031/(205.802857+200)"
   ]
  },
  {
   "cell_type": "code",
   "execution_count": 16,
   "metadata": {},
   "outputs": [
    {
     "data": {
      "text/plain": [
       "0.07105465542892273"
      ]
     },
     "execution_count": 16,
     "metadata": {},
     "output_type": "execute_result"
    }
   ],
   "source": [
    "21.55302/(37.76616+265.564)"
   ]
  },
  {
   "cell_type": "code",
   "execution_count": 17,
   "metadata": {},
   "outputs": [
    {
     "data": {
      "text/plain": [
       "0.09970000000000001"
      ]
     },
     "execution_count": 17,
     "metadata": {},
     "output_type": "execute_result"
    }
   ],
   "source": [
    "V=10**-4\n",
    "p=997\n",
    "M=p*V\n",
    "M"
   ]
  },
  {
   "cell_type": "code",
   "execution_count": 18,
   "metadata": {},
   "outputs": [],
   "source": [
    "m=M*1000"
   ]
  },
  {
   "cell_type": "code",
   "execution_count": 19,
   "metadata": {},
   "outputs": [],
   "source": [
    "c=19.1/(19.1+m)"
   ]
  },
  {
   "cell_type": "code",
   "execution_count": 20,
   "metadata": {},
   "outputs": [
    {
     "data": {
      "text/plain": [
       "0.16077441077441076"
      ]
     },
     "execution_count": 20,
     "metadata": {},
     "output_type": "execute_result"
    }
   ],
   "source": [
    "c"
   ]
  },
  {
   "cell_type": "code",
   "execution_count": null,
   "metadata": {},
   "outputs": [],
   "source": []
  }
 ],
 "metadata": {
  "kernelspec": {
   "display_name": "Python 3 (ipykernel)",
   "language": "python",
   "name": "python3"
  },
  "language_info": {
   "codemirror_mode": {
    "name": "ipython",
    "version": 3
   },
   "file_extension": ".py",
   "mimetype": "text/x-python",
   "name": "python",
   "nbconvert_exporter": "python",
   "pygments_lexer": "ipython3",
   "version": "3.9.12"
  }
 },
 "nbformat": 4,
 "nbformat_minor": 2
}
